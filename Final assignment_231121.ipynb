{
 "cells": [
  {
   "cell_type": "code",
   "execution_count": 81,
   "id": "946e30f2",
   "metadata": {
    "scrolled": true
   },
   "outputs": [],
   "source": [
    "class snp(object):\n",
    "    \"\"\"\n",
    "    Do exactly what Sub-Numpy does\n",
    "    \"\"\"\n",
    "        \n",
    "    def ones(num):\n",
    "        \"\"\"\n",
    "        The ones function takes an int parameter and returns an array (list) of length int parameter \n",
    "        and the array contains only ones. Example: snp.ones(5) = [1,1,1,1,1]\n",
    "        \"\"\"\n",
    "        ones_list = []\n",
    "        for i in range(num):\n",
    "            ones_list.append(1)\n",
    "        return ones_list\n",
    "    \n",
    "    def zeros(num):\n",
    "        \"\"\"\n",
    "        The zeros function takes an int parameter and returns an array (list) of length int parameter \n",
    "        and the array contains only zeros. Example: snp.zeros(5) = [0,0,0,0,0]\n",
    "        \"\"\"\n",
    "        assert type(num) == int, \"Input must be int type.\"\n",
    "        zeros_list = []\n",
    "        for i in range(num):\n",
    "            zeros_list.append(0)\n",
    "        return zeros_list\n",
    "    \n",
    "    def reshape(array, dimension):\n",
    "        \"\"\"\n",
    "        np.reshape(array, (row, column)) : takes an array and converts it into the dimensions specified\n",
    "        by the tuple (row, column). Hence this function converts from a vector to a matrix. For an\n",
    "        example on reshape functionality of numpy, refer to fig.\n",
    "        \"\"\"\n",
    "        (row, column) = dimension\n",
    "        new_shape = []\n",
    "        for m in range(row):\n",
    "            new_row = []\n",
    "            for n in range(column):\n",
    "                new_row.append(array[column*m+n])\n",
    "            new_shape.append(new_row)\n",
    "        return new_shape\n",
    "       \n",
    "    def shape(matrix):\n",
    "        \"\"\"\n",
    "        snp.shape(array) : returns a tuple with the matrix/vector’s dimension e.g. (# rows, # columns)\n",
    "        \"\"\"\n",
    "        column = len(matrix[0])\n",
    "        row = len(matrix)\n",
    "        array = (row, column)\n",
    "        \n",
    "        #note loop check the lenght of each row if they are not all equal then return null column    \n",
    "        return array\n",
    "    \n",
    "    def append(array1, array2): #, axis = None\n",
    "        \"\"\"\n",
    "        snp.append(array1, array2) : returns a new vector/matrix that is the combination of the two\n",
    "        input vectors/matrices. Note that you can’t append a vector to a matrix and vice versa and\n",
    "        therefore use suitable exception handling and throw/return user friendly error messages.\n",
    "        \"\"\"\n",
    "        # arry1 =[1,2,3], arry2 = [4,5,6]\n",
    "        #if axis == 1:\n",
    "        new_array =[]\n",
    "        #m = 0\n",
    "        #n = 0\n",
    "        #TODO add check if 2 arrays are same lenght\n",
    "        #TODO make it so we can append vectors together\n",
    "        #TODO check and raise that a vector cannot append to a matrix\n",
    "        for i in range(len(array1)): #len = 0, 1, 2\n",
    "            new_array.extend(array1[i])\n",
    "        for i in range(len(array2)):\n",
    "            new_array.extend(array2[i])\n",
    "        return new_array\n",
    "        \n",
    "        #BONUS make the axis thing works!\n",
    "        \n",
    "    def get(array, dimension):\n",
    "        \"\"\"\n",
    "        snp.get(array, (row, column)) : returns the value specified by the coordinate point (row, column) \n",
    "        of the array provided (can be vector or matrix)\n",
    "        \"\"\"\n",
    "        #TODO make it work with vector(now we index list inside list)\n",
    "        (row, column) = dimension\n",
    "        row1 = row-1\n",
    "        column1 = column-1\n",
    "        get_num = array[row1][column1]\n",
    "        \n",
    "        return get_num\n",
    "    \n",
    "    def add(array1, array2):\n",
    "        \"\"\"\n",
    "        snp.add(array1, array1) : addition on vectors/matrices.\n",
    "        \"\"\"\n",
    "        #TODO check if array1 and array2 have equal dimension\n",
    "        #TODO assert none vector/matrix error\n",
    "        if type(array1[0]) != int:\n",
    "            for i in range(len(array1)): # len 0,1,2\n",
    "                for j in range(len(array1[0])): #len 0,1\n",
    "                    array1[i][j] += array2[i][j]\n",
    "            return array1\n",
    "        \n",
    "        elif type(array1[0]) == int: \n",
    "            for i in range(len(array1)):\n",
    "                array1[i] += array2[i]\n",
    "            return array1\n",
    "    def subtract(array1, array2):\n",
    "        \"\"\"\n",
    "        \"\"\"\n",
    "        if type(array1[0]) != int:\n",
    "            for i in range(len(array1)): # len 0,1,2\n",
    "                for j in range(len(array1[0])): #len 0,1\n",
    "                    array1[i][j] -= array2[i][j]\n",
    "            return array1\n",
    "        \n",
    "        elif type(array1[0]) == int: \n",
    "            for i in range(len(array1)):\n",
    "                array1[i] -= array2[i]\n",
    "            return array1\n",
    "\n",
    "    #def dotproduct(array1, array1):\n",
    "        #\"\"\"\n",
    "        #snp.dotproduct(array1, array1) : computes the dot product between two arrays (which could\n",
    "        #be vector or/and matrix) and returns an appropriate value. Use appropriate exception handling\n",
    "       #to output user-friendly error messages in case the dot product cannot be performed between\n",
    "        #the given arrays.\n",
    "       # \"\"\"\n",
    "    x = 0\n",
    "    y = 0 \n",
    "    z = 0\n",
    "    A = [[1,2,3],[4,5,6]]\n",
    "    B = [[7,8],[9,10],[11,12]]\n",
    "    \n",
    "    def dotproductfunc(A, B, C):\n",
    "        x = 0\n",
    "        y = 0 \n",
    "        z = 0\n",
    "        #TODO \n",
    "        row1 = snp.shape(A)[0] # row1 = 2\n",
    "        col1 =  snp.shape(A)[1] # col1 = 3\n",
    "        row2 = snp.shape(B)[0] # row2 = 3\n",
    "        col2 =  snp.shape(B)[1] # col2 = 2\n",
    "        for x in range(2):\n",
    "            for y in range(2):\n",
    "                for z in range(3):\n",
    "                    C[x][y] += A[x][z] * B[z][y]\n",
    "\n",
    "        for C in result:\n",
    "            print(C)\n",
    "  \n",
    "  \n",
    "    def dotproduct(A, B):\n",
    "        #we can make row/column in def shape first\n",
    "        row1 = snp.shape(A)[0]\n",
    "        col1 =  snp.shape(A)[1]\n",
    "        print(row1, col1)\n",
    "        row2 = snp.shape(B)[0]\n",
    "        col2 =  snp.shape(B)[1]\n",
    "        print(row2, col2)\n",
    "        \n",
    "        if row1 != col2:\n",
    "            return \"Dot product cannot be found.\"\n",
    "        \n",
    "        array_c = snp.zeros(row1*col2)\n",
    "        print(array_c)\n",
    "        # plug-in row1, col2\n",
    "        C = snp.reshape(array_c, (row1,col2))\n",
    "        print(C)\n",
    "        \n",
    "        final_matrix = snp.dotproductfunc(A, B, C)\n",
    "        print(final_matrix)\n",
    "        \n",
    "        "
   ]
  },
  {
   "cell_type": "code",
   "execution_count": null,
   "id": "246c7539",
   "metadata": {},
   "outputs": [],
   "source": [
    "#\n",
    "if (x >= row1): \n",
    "            return\n",
    "        \n",
    "        if (y< col2):\n",
    "            if z< col1:\n",
    "                C[x][y] += A[x][z]*B[z][y]\n",
    "                z +=1\n",
    "                snp.dotproductfunc(A, B, C)\n",
    "                print(z)\n",
    "            z = 0\n",
    "            y += 1\n",
    "            snp.dotproductfunc(A, B, C)\n",
    "        \n",
    "        y = 0\n",
    "        x += 1\n",
    "        snp.dotproductfunc(A, B, C)"
   ]
  },
  {
   "cell_type": "code",
   "execution_count": 36,
   "id": "22940b24",
   "metadata": {},
   "outputs": [
    {
     "data": {
      "text/plain": [
       "[[0, 0], [0, 0]]"
      ]
     },
     "execution_count": 36,
     "metadata": {},
     "output_type": "execute_result"
    }
   ],
   "source": [
    "snp.reshape([0,0,0,0], (2,2))"
   ]
  },
  {
   "cell_type": "code",
   "execution_count": 72,
   "id": "a0d63bfa",
   "metadata": {
    "scrolled": false
   },
   "outputs": [
    {
     "data": {
      "text/plain": [
       "(2, 3)"
      ]
     },
     "execution_count": 72,
     "metadata": {},
     "output_type": "execute_result"
    }
   ],
   "source": [
    "snp.shape([[1,2,3],[4,5,6]])"
   ]
  },
  {
   "cell_type": "code",
   "execution_count": 75,
   "id": "9e608ce6",
   "metadata": {},
   "outputs": [
    {
     "data": {
      "text/plain": [
       "3"
      ]
     },
     "execution_count": 75,
     "metadata": {},
     "output_type": "execute_result"
    }
   ],
   "source": [
    "snp.shape([[1,2,3],[4,5,6]])[1]"
   ]
  },
  {
   "cell_type": "code",
   "execution_count": 73,
   "id": "67d9ae93",
   "metadata": {
    "scrolled": true
   },
   "outputs": [
    {
     "data": {
      "text/plain": [
       "(3, 2)"
      ]
     },
     "execution_count": 73,
     "metadata": {},
     "output_type": "execute_result"
    }
   ],
   "source": [
    "snp.shape([[7,8],[9,10], [11,12]])"
   ]
  },
  {
   "cell_type": "code",
   "execution_count": 76,
   "id": "1ab5b2aa",
   "metadata": {},
   "outputs": [
    {
     "data": {
      "text/plain": [
       "3"
      ]
     },
     "execution_count": 76,
     "metadata": {},
     "output_type": "execute_result"
    }
   ],
   "source": [
    "snp.shape([[7,8],[9,10], [11,12]])[0]"
   ]
  },
  {
   "cell_type": "code",
   "execution_count": 84,
   "id": "1012ad31",
   "metadata": {},
   "outputs": [
    {
     "name": "stdout",
     "output_type": "stream",
     "text": [
      "2 3\n",
      "3 2\n",
      "[0, 0, 0, 0]\n",
      "[[0, 0], [0, 0]]\n"
     ]
    },
    {
     "ename": "NameError",
     "evalue": "name 'result' is not defined",
     "output_type": "error",
     "traceback": [
      "\u001b[1;31m---------------------------------------------------------------------------\u001b[0m",
      "\u001b[1;31mNameError\u001b[0m                                 Traceback (most recent call last)",
      "\u001b[1;32m<ipython-input-84-aabad5cbc798>\u001b[0m in \u001b[0;36m<module>\u001b[1;34m\u001b[0m\n\u001b[0;32m      1\u001b[0m \u001b[0mA\u001b[0m \u001b[1;33m=\u001b[0m \u001b[1;33m[\u001b[0m\u001b[1;33m[\u001b[0m\u001b[1;36m1\u001b[0m\u001b[1;33m,\u001b[0m\u001b[1;36m2\u001b[0m\u001b[1;33m,\u001b[0m\u001b[1;36m3\u001b[0m\u001b[1;33m]\u001b[0m\u001b[1;33m,\u001b[0m\u001b[1;33m[\u001b[0m\u001b[1;36m4\u001b[0m\u001b[1;33m,\u001b[0m\u001b[1;36m5\u001b[0m\u001b[1;33m,\u001b[0m\u001b[1;36m6\u001b[0m\u001b[1;33m]\u001b[0m\u001b[1;33m]\u001b[0m\u001b[1;33m\u001b[0m\u001b[1;33m\u001b[0m\u001b[0m\n\u001b[0;32m      2\u001b[0m \u001b[0mB\u001b[0m \u001b[1;33m=\u001b[0m \u001b[1;33m[\u001b[0m\u001b[1;33m[\u001b[0m\u001b[1;36m7\u001b[0m\u001b[1;33m,\u001b[0m\u001b[1;36m8\u001b[0m\u001b[1;33m]\u001b[0m\u001b[1;33m,\u001b[0m\u001b[1;33m[\u001b[0m\u001b[1;36m9\u001b[0m\u001b[1;33m,\u001b[0m\u001b[1;36m10\u001b[0m\u001b[1;33m]\u001b[0m\u001b[1;33m,\u001b[0m \u001b[1;33m[\u001b[0m\u001b[1;36m11\u001b[0m\u001b[1;33m,\u001b[0m\u001b[1;36m12\u001b[0m\u001b[1;33m]\u001b[0m\u001b[1;33m]\u001b[0m\u001b[1;33m\u001b[0m\u001b[1;33m\u001b[0m\u001b[0m\n\u001b[1;32m----> 3\u001b[1;33m \u001b[0msnp\u001b[0m\u001b[1;33m.\u001b[0m\u001b[0mdotproduct\u001b[0m\u001b[1;33m(\u001b[0m\u001b[0mA\u001b[0m\u001b[1;33m,\u001b[0m \u001b[0mB\u001b[0m\u001b[1;33m)\u001b[0m\u001b[1;33m\u001b[0m\u001b[1;33m\u001b[0m\u001b[0m\n\u001b[0m",
      "\u001b[1;32m<ipython-input-81-9bfff33881a9>\u001b[0m in \u001b[0;36mdotproduct\u001b[1;34m(A, B)\u001b[0m\n\u001b[0;32m    165\u001b[0m         \u001b[0mprint\u001b[0m\u001b[1;33m(\u001b[0m\u001b[0mC\u001b[0m\u001b[1;33m)\u001b[0m\u001b[1;33m\u001b[0m\u001b[1;33m\u001b[0m\u001b[0m\n\u001b[0;32m    166\u001b[0m \u001b[1;33m\u001b[0m\u001b[0m\n\u001b[1;32m--> 167\u001b[1;33m         \u001b[0mfinal_matrix\u001b[0m \u001b[1;33m=\u001b[0m \u001b[0msnp\u001b[0m\u001b[1;33m.\u001b[0m\u001b[0mdotproductfunc\u001b[0m\u001b[1;33m(\u001b[0m\u001b[0mA\u001b[0m\u001b[1;33m,\u001b[0m \u001b[0mB\u001b[0m\u001b[1;33m,\u001b[0m \u001b[0mC\u001b[0m\u001b[1;33m)\u001b[0m\u001b[1;33m\u001b[0m\u001b[1;33m\u001b[0m\u001b[0m\n\u001b[0m\u001b[0;32m    168\u001b[0m         \u001b[0mprint\u001b[0m\u001b[1;33m(\u001b[0m\u001b[0mfinal_matrix\u001b[0m\u001b[1;33m)\u001b[0m\u001b[1;33m\u001b[0m\u001b[1;33m\u001b[0m\u001b[0m\n\u001b[0;32m    169\u001b[0m \u001b[1;33m\u001b[0m\u001b[0m\n",
      "\u001b[1;32m<ipython-input-81-9bfff33881a9>\u001b[0m in \u001b[0;36mdotproductfunc\u001b[1;34m(A, B, C)\u001b[0m\n\u001b[0;32m    143\u001b[0m                     \u001b[0mC\u001b[0m\u001b[1;33m[\u001b[0m\u001b[0mx\u001b[0m\u001b[1;33m]\u001b[0m\u001b[1;33m[\u001b[0m\u001b[0my\u001b[0m\u001b[1;33m]\u001b[0m \u001b[1;33m+=\u001b[0m \u001b[0mA\u001b[0m\u001b[1;33m[\u001b[0m\u001b[0mx\u001b[0m\u001b[1;33m]\u001b[0m\u001b[1;33m[\u001b[0m\u001b[0mz\u001b[0m\u001b[1;33m]\u001b[0m \u001b[1;33m*\u001b[0m \u001b[0mB\u001b[0m\u001b[1;33m[\u001b[0m\u001b[0mz\u001b[0m\u001b[1;33m]\u001b[0m\u001b[1;33m[\u001b[0m\u001b[0my\u001b[0m\u001b[1;33m]\u001b[0m\u001b[1;33m\u001b[0m\u001b[1;33m\u001b[0m\u001b[0m\n\u001b[0;32m    144\u001b[0m \u001b[1;33m\u001b[0m\u001b[0m\n\u001b[1;32m--> 145\u001b[1;33m         \u001b[1;32mfor\u001b[0m \u001b[0mC\u001b[0m \u001b[1;32min\u001b[0m \u001b[0mresult\u001b[0m\u001b[1;33m:\u001b[0m\u001b[1;33m\u001b[0m\u001b[1;33m\u001b[0m\u001b[0m\n\u001b[0m\u001b[0;32m    146\u001b[0m             \u001b[0mprint\u001b[0m\u001b[1;33m(\u001b[0m\u001b[0mC\u001b[0m\u001b[1;33m)\u001b[0m\u001b[1;33m\u001b[0m\u001b[1;33m\u001b[0m\u001b[0m\n\u001b[0;32m    147\u001b[0m \u001b[1;33m\u001b[0m\u001b[0m\n",
      "\u001b[1;31mNameError\u001b[0m: name 'result' is not defined"
     ]
    }
   ],
   "source": [
    "A = [[1,2,3],[4,5,6]]\n",
    "B = [[7,8],[9,10], [11,12]]\n",
    "snp.dotproduct(A, B)"
   ]
  },
  {
   "cell_type": "code",
   "execution_count": 83,
   "id": "26736fc1",
   "metadata": {},
   "outputs": [
    {
     "ename": "TypeError",
     "evalue": "'function' object is not subscriptable",
     "output_type": "error",
     "traceback": [
      "\u001b[1;31m---------------------------------------------------------------------------\u001b[0m",
      "\u001b[1;31mTypeError\u001b[0m                                 Traceback (most recent call last)",
      "\u001b[1;32m<ipython-input-83-2ffe085c403b>\u001b[0m in \u001b[0;36m<module>\u001b[1;34m\u001b[0m\n\u001b[1;32m----> 1\u001b[1;33m \u001b[0msnp\u001b[0m\u001b[1;33m.\u001b[0m\u001b[0mdotproductfunc\u001b[0m\u001b[1;33m(\u001b[0m\u001b[0mA\u001b[0m\u001b[1;33m,\u001b[0m \u001b[0mB\u001b[0m\u001b[1;33m,\u001b[0m \u001b[0mC\u001b[0m\u001b[1;33m)\u001b[0m\u001b[1;33m\u001b[0m\u001b[1;33m\u001b[0m\u001b[0m\n\u001b[0m",
      "\u001b[1;32m<ipython-input-81-9bfff33881a9>\u001b[0m in \u001b[0;36mdotproductfunc\u001b[1;34m(A, B, C)\u001b[0m\n\u001b[0;32m    141\u001b[0m             \u001b[1;32mfor\u001b[0m \u001b[0my\u001b[0m \u001b[1;32min\u001b[0m \u001b[0mrange\u001b[0m\u001b[1;33m(\u001b[0m\u001b[1;36m2\u001b[0m\u001b[1;33m)\u001b[0m\u001b[1;33m:\u001b[0m\u001b[1;33m\u001b[0m\u001b[1;33m\u001b[0m\u001b[0m\n\u001b[0;32m    142\u001b[0m                 \u001b[1;32mfor\u001b[0m \u001b[0mz\u001b[0m \u001b[1;32min\u001b[0m \u001b[0mrange\u001b[0m\u001b[1;33m(\u001b[0m\u001b[1;36m3\u001b[0m\u001b[1;33m)\u001b[0m\u001b[1;33m:\u001b[0m\u001b[1;33m\u001b[0m\u001b[1;33m\u001b[0m\u001b[0m\n\u001b[1;32m--> 143\u001b[1;33m                     \u001b[0mC\u001b[0m\u001b[1;33m[\u001b[0m\u001b[0mx\u001b[0m\u001b[1;33m]\u001b[0m\u001b[1;33m[\u001b[0m\u001b[0my\u001b[0m\u001b[1;33m]\u001b[0m \u001b[1;33m+=\u001b[0m \u001b[0mA\u001b[0m\u001b[1;33m[\u001b[0m\u001b[0mx\u001b[0m\u001b[1;33m]\u001b[0m\u001b[1;33m[\u001b[0m\u001b[0mz\u001b[0m\u001b[1;33m]\u001b[0m \u001b[1;33m*\u001b[0m \u001b[0mB\u001b[0m\u001b[1;33m[\u001b[0m\u001b[0mz\u001b[0m\u001b[1;33m]\u001b[0m\u001b[1;33m[\u001b[0m\u001b[0my\u001b[0m\u001b[1;33m]\u001b[0m\u001b[1;33m\u001b[0m\u001b[1;33m\u001b[0m\u001b[0m\n\u001b[0m\u001b[0;32m    144\u001b[0m \u001b[1;33m\u001b[0m\u001b[0m\n\u001b[0;32m    145\u001b[0m         \u001b[1;32mfor\u001b[0m \u001b[0mC\u001b[0m \u001b[1;32min\u001b[0m \u001b[0mresult\u001b[0m\u001b[1;33m:\u001b[0m\u001b[1;33m\u001b[0m\u001b[1;33m\u001b[0m\u001b[0m\n",
      "\u001b[1;31mTypeError\u001b[0m: 'function' object is not subscriptable"
     ]
    }
   ],
   "source": [
    "snp.dotproductfunc(A, B, C)"
   ]
  },
  {
   "cell_type": "code",
   "execution_count": 80,
   "id": "7fd6f64e",
   "metadata": {},
   "outputs": [
    {
     "name": "stdout",
     "output_type": "stream",
     "text": [
      "<class 'int'>\n"
     ]
    }
   ],
   "source": [
    "print(type(len(A)))"
   ]
  },
  {
   "cell_type": "code",
   "execution_count": null,
   "id": "de1673b4",
   "metadata": {},
   "outputs": [],
   "source": []
  }
 ],
 "metadata": {
  "kernelspec": {
   "display_name": "Python 3",
   "language": "python",
   "name": "python3"
  },
  "language_info": {
   "codemirror_mode": {
    "name": "ipython",
    "version": 3
   },
   "file_extension": ".py",
   "mimetype": "text/x-python",
   "name": "python",
   "nbconvert_exporter": "python",
   "pygments_lexer": "ipython3",
   "version": "3.8.8"
  }
 },
 "nbformat": 4,
 "nbformat_minor": 5
}
